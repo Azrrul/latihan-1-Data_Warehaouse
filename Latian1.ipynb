{
  "nbformat": 4,
  "nbformat_minor": 0,
  "metadata": {
    "colab": {
      "name": "Untitled1.ipynb",
      "provenance": []
    },
    "kernelspec": {
      "name": "python3",
      "display_name": "Python 3"
    },
    "language_info": {
      "name": "python"
    }
  },
  "cells": [
    {
      "cell_type": "markdown",
      "metadata": {
        "id": "RUtVFSVWC525"
      },
      "source": [
        "1. print perkalian di bawah ini\n"
      ]
    },
    {
      "cell_type": "code",
      "metadata": {
        "id": "TwX48JsKC_2h"
      },
      "source": [
        ""
      ],
      "execution_count": null,
      "outputs": []
    },
    {
      "cell_type": "markdown",
      "metadata": {
        "id": "je8E1uRQDfXc"
      },
      "source": [
        "(1). Silahkan print(8 / 7) dan berikan comment # Ini adalah pembagian, lihat contoh di bawah ini"
      ]
    },
    {
      "cell_type": "code",
      "metadata": {
        "colab": {
          "base_uri": "https://localhost:8080/"
        },
        "id": "lJW9YmrwDqJv",
        "outputId": "c2ace913-ab5d-408d-b494-9dedfb32b624"
      },
      "source": [
        "# Ini adalah perkalian\n",
        "print(4 * 8)"
      ],
      "execution_count": 1,
      "outputs": [
        {
          "output_type": "stream",
          "text": [
            "32\n"
          ],
          "name": "stdout"
        }
      ]
    },
    {
      "cell_type": "code",
      "metadata": {
        "colab": {
          "base_uri": "https://localhost:8080/"
        },
        "id": "mME-Lq4UDt_i",
        "outputId": "9788abc4-675f-4f14-b696-e65494380060"
      },
      "source": [
        "print (8/7)"
      ],
      "execution_count": 2,
      "outputs": [
        {
          "output_type": "stream",
          "text": [
            "1.1428571428571428\n"
          ],
          "name": "stdout"
        }
      ]
    },
    {
      "cell_type": "markdown",
      "metadata": {
        "id": "-Pg74FC0ECG2"
      },
      "source": [
        "Python sebagai kalkulator\n",
        "(2) Lihat beberapa contoh di bawah ini"
      ]
    },
    {
      "cell_type": "code",
      "metadata": {
        "colab": {
          "base_uri": "https://localhost:8080/"
        },
        "id": "fya410xoEEf3",
        "outputId": "7e7acbe7-a6e3-4904-9716-fb163bb1c12d"
      },
      "source": [
        "# Penambahan dan pengurangan\n",
        "print(5 + 5)\n",
        "print(5 - 5)\n",
        "\n",
        "# Perkalian dan pembagian\n",
        "print(3 * 5)\n",
        "print(10 / 2)\n",
        "\n",
        "# Perpangkatan\n",
        "print(4 ** 2)\n",
        "\n",
        "# Pembagian Modulo\n",
        "print(18 % 7)"
      ],
      "execution_count": 3,
      "outputs": [
        {
          "output_type": "stream",
          "text": [
            "10\n",
            "0\n",
            "15\n",
            "5.0\n",
            "16\n",
            "4\n"
          ],
          "name": "stdout"
        }
      ]
    },
    {
      "cell_type": "code",
      "metadata": {
        "colab": {
          "base_uri": "https://localhost:8080/"
        },
        "id": "H_c0pQUTEPki",
        "outputId": "c36bb721-eb8c-440f-ca04-98a5ef077399"
      },
      "source": [
        "print(100000*((10/100)*7)+100000)"
      ],
      "execution_count": 6,
      "outputs": [
        {
          "output_type": "stream",
          "text": [
            "170000.0\n"
          ],
          "name": "stdout"
        }
      ]
    },
    {
      "cell_type": "markdown",
      "metadata": {
        "id": "RrisHgGMFzeg"
      },
      "source": [
        "(3) Buat variabel simpanan dengan nilai 100000, kemudian print variabel simpanan\n"
      ]
    },
    {
      "cell_type": "code",
      "metadata": {
        "colab": {
          "base_uri": "https://localhost:8080/"
        },
        "id": "pn77XkqcF0_s",
        "outputId": "2449c039-e08f-4ae2-c6f6-20376dd423d7"
      },
      "source": [
        "simpanan = 100000\n",
        "print (simpanan)"
      ],
      "execution_count": 9,
      "outputs": [
        {
          "output_type": "stream",
          "text": [
            "100000\n"
          ],
          "name": "stdout"
        }
      ]
    },
    {
      "cell_type": "markdown",
      "metadata": {
        "id": "LAdYdQwEGLWc"
      },
      "source": [
        "\n",
        "(4)\n",
        "Buat variable faktor = 1.10\n",
        "Gunakan variabel simpanan dan faktor untuk menentukan berapa hasil yang didapat dalam 10 tahun dan simpan dalam variabel hasil\n",
        "print hasil"
      ]
    },
    {
      "cell_type": "code",
      "metadata": {
        "colab": {
          "base_uri": "https://localhost:8080/"
        },
        "id": "OJq4DFByGSAw",
        "outputId": "8d3038d0-a1d8-42f4-9e07-1005c46ee323"
      },
      "source": [
        "faktor = 1.10\n",
        "hasil = (faktor*simpanan*10)\n",
        "print (hasil)"
      ],
      "execution_count": 13,
      "outputs": [
        {
          "output_type": "stream",
          "text": [
            "1100000.0000000002\n"
          ],
          "name": "stdout"
        }
      ]
    },
    {
      "cell_type": "markdown",
      "metadata": {
        "id": "8C06U1GeHc_J"
      },
      "source": [
        "(5)\n",
        "Kalikan simpanan dan faktor dan simpan dalam variabel hasil_1\n",
        "Apakah tipe data dari hasil 1? Silahkan print tipe datanya\n",
        "Buatlah variabel desc = \"Sains Data\"\n",
        "Jumlahkan desc dengan desc bagaimana hasilnya? Simpan pada variabel dobel_desc\n",
        "print dobel_desc"
      ]
    },
    {
      "cell_type": "code",
      "metadata": {
        "colab": {
          "base_uri": "https://localhost:8080/"
        },
        "id": "4OcQ9q1gHlTJ",
        "outputId": "ac6f8c81-e921-4344-d529-95de35405f29"
      },
      "source": [
        "hasil_1 = (simpanan * faktor)\n",
        "print (type(hasil_1))\n",
        "desc = \"sains Data\"\n",
        "dobel_desc = (desc + desc)\n",
        "print(dobel_desc)"
      ],
      "execution_count": 17,
      "outputs": [
        {
          "output_type": "stream",
          "text": [
            "<class 'float'>\n",
            "sains Datasains Data\n"
          ],
          "name": "stdout"
        }
      ]
    },
    {
      "cell_type": "markdown",
      "metadata": {
        "id": "mLM3OULGJLQz"
      },
      "source": [
        "Konversi tipe data / casting\n",
        "Kamu bisa merubah tipe data seperti berikut"
      ]
    },
    {
      "cell_type": "code",
      "metadata": {
        "colab": {
          "base_uri": "https://localhost:8080/",
          "height": 35
        },
        "id": "oLMB0K0tJcD_",
        "outputId": "b1739bad-2ae3-4b4e-92a6-346cee531e75"
      },
      "source": [
        "a = 5\n",
        "a_baru = str(a)\n",
        "a_baru"
      ],
      "execution_count": 18,
      "outputs": [
        {
          "output_type": "execute_result",
          "data": {
            "application/vnd.google.colaboratory.intrinsic+json": {
              "type": "string"
            },
            "text/plain": [
              "'5'"
            ]
          },
          "metadata": {
            "tags": []
          },
          "execution_count": 18
        }
      ]
    },
    {
      "cell_type": "code",
      "metadata": {
        "colab": {
          "base_uri": "https://localhost:8080/"
        },
        "id": "4JJIwD7pJfPR",
        "outputId": "369fd234-e5d0-4a78-8095-6113779c1aea"
      },
      "source": [
        "type(a_baru)"
      ],
      "execution_count": 19,
      "outputs": [
        {
          "output_type": "execute_result",
          "data": {
            "text/plain": [
              "str"
            ]
          },
          "metadata": {
            "tags": []
          },
          "execution_count": 19
        }
      ]
    },
    {
      "cell_type": "code",
      "metadata": {
        "colab": {
          "base_uri": "https://localhost:8080/"
        },
        "id": "9WaaraXVJkq7",
        "outputId": "887764eb-5aba-4ed2-943e-42126e813b51"
      },
      "source": [
        "b = '300'\n",
        "b_baru = int(b)\n",
        "b_baru"
      ],
      "execution_count": 20,
      "outputs": [
        {
          "output_type": "execute_result",
          "data": {
            "text/plain": [
              "300"
            ]
          },
          "metadata": {
            "tags": []
          },
          "execution_count": 20
        }
      ]
    },
    {
      "cell_type": "code",
      "metadata": {
        "colab": {
          "base_uri": "https://localhost:8080/"
        },
        "id": "PhYkDGTEJm3r",
        "outputId": "88ade81b-c436-4c68-cbf0-c9bdfc8049f4"
      },
      "source": [
        "type(b_baru)"
      ],
      "execution_count": 21,
      "outputs": [
        {
          "output_type": "execute_result",
          "data": {
            "text/plain": [
              "int"
            ]
          },
          "metadata": {
            "tags": []
          },
          "execution_count": 21
        }
      ]
    },
    {
      "cell_type": "markdown",
      "metadata": {
        "id": "8ej_YKnyJqDQ"
      },
      "source": [
        "(6). Lihat error di bawah ini bagaiman kamu menyelesaikannya?"
      ]
    },
    {
      "cell_type": "code",
      "metadata": {
        "colab": {
          "base_uri": "https://localhost:8080/"
        },
        "id": "KxGVRt_UJr2O",
        "outputId": "ea5c1da8-fcad-45ca-c140-51cedcd2af33"
      },
      "source": [
        "# Simpanan dan hasil\n",
        "simpanan_x = 100000\n",
        "hasil_x = 100000 * 1.10 ** 7\n",
        "\n",
        "# Fix the printout\n",
        "print(\"Uang saya awalnya\" + str(simpanan_x) + \"dan saya sekarang punya\"  + str(int(hasil_x)) + \".Kueren cak\")"
      ],
      "execution_count": 28,
      "outputs": [
        {
          "output_type": "stream",
          "text": [
            "Uang saya awalnya100000dan saya sekarang punya194871.Kueren cak\n"
          ],
          "name": "stdout"
        }
      ]
    },
    {
      "cell_type": "code",
      "metadata": {
        "colab": {
          "base_uri": "https://localhost:8080/"
        },
        "id": "QJ3t4ixzLGx3",
        "outputId": "9e6a6d0d-0aa9-4eb9-d472-f4304e2b9446"
      },
      "source": [
        "# Selesaikan juga ini\n",
        "pi_string = \"3.1415926\"\n",
        "float = pi_string\n",
        "print (pi_string)\n",
        "\n",
        "# Konversi pi_string menjadi float simpan dalam variabel pi_float dan kemudian print\n",
        "# Jawba disini"
      ],
      "execution_count": 29,
      "outputs": [
        {
          "output_type": "stream",
          "text": [
            "3.1415926\n"
          ],
          "name": "stdout"
        }
      ]
    }
  ]
}